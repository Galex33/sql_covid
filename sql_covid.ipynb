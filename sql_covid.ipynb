{
 "cells": [
  {
   "cell_type": "code",
   "execution_count": 82,
   "id": "2a870316",
   "metadata": {},
   "outputs": [],
   "source": [
    "import pandas as pd\n",
    "import csv\n",
    "import sqlite3\n",
    "from sqlite3 import connect\n",
    "import folium\n",
    "import seaborn as sns\n",
    "import matplotlib as mpl\n",
    "import matplotlib.pyplot as plt"
   ]
  },
  {
   "cell_type": "code",
   "execution_count": 34,
   "id": "2a8e3cb3",
   "metadata": {},
   "outputs": [
    {
     "data": {
      "text/plain": [
       "0        8.33\n",
       "1        8.33\n",
       "2        8.33\n",
       "3        8.33\n",
       "4        8.33\n",
       "         ... \n",
       "86431     NaN\n",
       "86432     NaN\n",
       "86433     NaN\n",
       "86434     NaN\n",
       "86435     NaN\n",
       "Name: stringency_index, Length: 86436, dtype: float64"
      ]
     },
     "execution_count": 34,
     "metadata": {},
     "output_type": "execute_result"
    }
   ],
   "source": [
    "conn = sqlite3.connect(\"covid.db\")\n",
    "cursor = conn.cursor()\n",
    "\n",
    "df = pd.read_csv('owid-covid-data.csv')\n",
    "df.to_sql('covid', sqlite3.connect(\"covid.db\"), if_exists='append', index = False)\n"
   ]
  },
  {
   "cell_type": "code",
   "execution_count": 3,
   "id": "36438fa7",
   "metadata": {},
   "outputs": [],
   "source": [
    "def covid(requete):\n",
    "    df =pd.read_sql_query(requete, conn)\n",
    "    print(df)"
   ]
  },
  {
   "cell_type": "markdown",
   "id": "d3a5e5ea",
   "metadata": {},
   "source": [
    "## How many countries are included in our data set?"
   ]
  },
  {
   "cell_type": "code",
   "execution_count": 4,
   "id": "8a1bdbea",
   "metadata": {},
   "outputs": [
    {
     "name": "stdout",
     "output_type": "stream",
     "text": [
      "   nombre de pays\n",
      "0             219\n"
     ]
    }
   ],
   "source": [
    "nb_pays = covid(\"select count(distinct location ) as 'nombre de pays' from covid \")\n",
    "nb_pays"
   ]
  },
  {
   "cell_type": "markdown",
   "id": "790ff4fd",
   "metadata": {},
   "source": [
    "## When was the most recent entry?"
   ]
  },
  {
   "cell_type": "code",
   "execution_count": 30,
   "id": "9485159c",
   "metadata": {},
   "outputs": [
    {
     "name": "stdout",
     "output_type": "stream",
     "text": [
      "         date\n",
      "0  2020-01-01\n"
     ]
    }
   ],
   "source": [
    "last_news = covid(\"SELECT DISTINCT date FROM covid ORDER BY date DESC LIMIT 1\")\n",
    "last_news"
   ]
  },
  {
   "cell_type": "markdown",
   "id": "821b2602",
   "metadata": {},
   "source": [
    "## What country had the highest single day deaths per million? "
   ]
  },
  {
   "cell_type": "code",
   "execution_count": 6,
   "id": "1dbcdaa0",
   "metadata": {},
   "outputs": [
    {
     "data": {
      "text/html": [
       "<div>\n",
       "<style scoped>\n",
       "    .dataframe tbody tr th:only-of-type {\n",
       "        vertical-align: middle;\n",
       "    }\n",
       "\n",
       "    .dataframe tbody tr th {\n",
       "        vertical-align: top;\n",
       "    }\n",
       "\n",
       "    .dataframe thead th {\n",
       "        text-align: right;\n",
       "    }\n",
       "</style>\n",
       "<table border=\"1\" class=\"dataframe\">\n",
       "  <thead>\n",
       "    <tr style=\"text-align: right;\">\n",
       "      <th></th>\n",
       "      <th>location</th>\n",
       "      <th>max(new_deaths_per_million)</th>\n",
       "      <th>date</th>\n",
       "    </tr>\n",
       "  </thead>\n",
       "  <tbody>\n",
       "    <tr>\n",
       "      <th>0</th>\n",
       "      <td>Ecuador</td>\n",
       "      <td>218.329</td>\n",
       "      <td>2020-09-07</td>\n",
       "    </tr>\n",
       "  </tbody>\n",
       "</table>\n",
       "</div>"
      ],
      "text/plain": [
       "  location  max(new_deaths_per_million)        date\n",
       "0  Ecuador                      218.329  2020-09-07"
      ]
     },
     "execution_count": 6,
     "metadata": {},
     "output_type": "execute_result"
    }
   ],
   "source": [
    "death_day_countr = pd.read_sql_query(\"SELECT location, MAX(new_deaths_per_million), date FROM covid\", conn)\n",
    "death_day_countr"
   ]
  },
  {
   "cell_type": "markdown",
   "id": "e0cee0f8",
   "metadata": {},
   "source": [
    "## Select any country. How many times have the deaths per million exceeded 1,000 in one day? "
   ]
  },
  {
   "cell_type": "code",
   "execution_count": 22,
   "id": "83135cff",
   "metadata": {
    "scrolled": true
   },
   "outputs": [
    {
     "data": {
      "text/html": [
       "<div>\n",
       "<style scoped>\n",
       "    .dataframe tbody tr th:only-of-type {\n",
       "        vertical-align: middle;\n",
       "    }\n",
       "\n",
       "    .dataframe tbody tr th {\n",
       "        vertical-align: top;\n",
       "    }\n",
       "\n",
       "    .dataframe thead th {\n",
       "        text-align: right;\n",
       "    }\n",
       "</style>\n",
       "<table border=\"1\" class=\"dataframe\">\n",
       "  <thead>\n",
       "    <tr style=\"text-align: right;\">\n",
       "      <th></th>\n",
       "      <th>count(new_deaths)</th>\n",
       "    </tr>\n",
       "  </thead>\n",
       "  <tbody>\n",
       "    <tr>\n",
       "      <th>0</th>\n",
       "      <td>17</td>\n",
       "    </tr>\n",
       "  </tbody>\n",
       "</table>\n",
       "</div>"
      ],
      "text/plain": [
       "   count(new_deaths)\n",
       "0                 17"
      ]
     },
     "execution_count": 22,
     "metadata": {},
     "output_type": "execute_result"
    }
   ],
   "source": [
    "country_death = pd.read_sql_query(\"SELECT COUNT(new_deaths) FROM covid WHERE location = 'France' AND new_deaths > 1000 GROUP BY date LIMIT 1\", conn)\n",
    "country_death"
   ]
  },
  {
   "cell_type": "markdown",
   "id": "003acb14",
   "metadata": {},
   "source": [
    "## Extract the deaths per million for US, France, and India. Plot the time series data and compare results to what the media is currently saying"
   ]
  },
  {
   "cell_type": "code",
   "execution_count": 67,
   "id": "377df449",
   "metadata": {},
   "outputs": [
    {
     "data": {
      "text/html": [
       "<div>\n",
       "<style scoped>\n",
       "    .dataframe tbody tr th:only-of-type {\n",
       "        vertical-align: middle;\n",
       "    }\n",
       "\n",
       "    .dataframe tbody tr th {\n",
       "        vertical-align: top;\n",
       "    }\n",
       "\n",
       "    .dataframe thead th {\n",
       "        text-align: right;\n",
       "    }\n",
       "</style>\n",
       "<table border=\"1\" class=\"dataframe\">\n",
       "  <thead>\n",
       "    <tr style=\"text-align: right;\">\n",
       "      <th></th>\n",
       "      <th>location</th>\n",
       "      <th>new_deaths_per_million</th>\n",
       "      <th>date</th>\n",
       "    </tr>\n",
       "  </thead>\n",
       "  <tbody>\n",
       "    <tr>\n",
       "      <th>1269</th>\n",
       "      <td>India</td>\n",
       "      <td>NaN</td>\n",
       "      <td>2020-03-10</td>\n",
       "    </tr>\n",
       "    <tr>\n",
       "      <th>1272</th>\n",
       "      <td>India</td>\n",
       "      <td>NaN</td>\n",
       "      <td>2020-03-09</td>\n",
       "    </tr>\n",
       "    <tr>\n",
       "      <th>1275</th>\n",
       "      <td>India</td>\n",
       "      <td>NaN</td>\n",
       "      <td>2020-03-08</td>\n",
       "    </tr>\n",
       "    <tr>\n",
       "      <th>1278</th>\n",
       "      <td>India</td>\n",
       "      <td>NaN</td>\n",
       "      <td>2020-03-07</td>\n",
       "    </tr>\n",
       "    <tr>\n",
       "      <th>1281</th>\n",
       "      <td>India</td>\n",
       "      <td>NaN</td>\n",
       "      <td>2020-03-06</td>\n",
       "    </tr>\n",
       "    <tr>\n",
       "      <th>...</th>\n",
       "      <td>...</td>\n",
       "      <td>...</td>\n",
       "      <td>...</td>\n",
       "    </tr>\n",
       "    <tr>\n",
       "      <th>1400</th>\n",
       "      <td>United States</td>\n",
       "      <td>NaN</td>\n",
       "      <td>2020-01-25</td>\n",
       "    </tr>\n",
       "    <tr>\n",
       "      <th>1401</th>\n",
       "      <td>France</td>\n",
       "      <td>NaN</td>\n",
       "      <td>2020-01-24</td>\n",
       "    </tr>\n",
       "    <tr>\n",
       "      <th>1402</th>\n",
       "      <td>United States</td>\n",
       "      <td>NaN</td>\n",
       "      <td>2020-01-24</td>\n",
       "    </tr>\n",
       "    <tr>\n",
       "      <th>1403</th>\n",
       "      <td>United States</td>\n",
       "      <td>NaN</td>\n",
       "      <td>2020-01-23</td>\n",
       "    </tr>\n",
       "    <tr>\n",
       "      <th>1404</th>\n",
       "      <td>United States</td>\n",
       "      <td>NaN</td>\n",
       "      <td>2020-01-22</td>\n",
       "    </tr>\n",
       "  </tbody>\n",
       "</table>\n",
       "<p>101 rows × 3 columns</p>\n",
       "</div>"
      ],
      "text/plain": [
       "           location  new_deaths_per_million        date\n",
       "1269          India                     NaN  2020-03-10\n",
       "1272          India                     NaN  2020-03-09\n",
       "1275          India                     NaN  2020-03-08\n",
       "1278          India                     NaN  2020-03-07\n",
       "1281          India                     NaN  2020-03-06\n",
       "...             ...                     ...         ...\n",
       "1400  United States                     NaN  2020-01-25\n",
       "1401         France                     NaN  2020-01-24\n",
       "1402  United States                     NaN  2020-01-24\n",
       "1403  United States                     NaN  2020-01-23\n",
       "1404  United States                     NaN  2020-01-22\n",
       "\n",
       "[101 rows x 3 columns]"
      ]
     },
     "execution_count": 67,
     "metadata": {},
     "output_type": "execute_result"
    }
   ],
   "source": [
    "time_series_countries = pd.read_sql_query(\"SELECT DISTINCT(location), new_deaths_per_million, date FROM covid WHERE location IN ('France','United States','India') ORDER BY date DESC\", conn)\n",
    "df_nan = time_series_countries[time_series_countries.isna().any(axis =1)]\n",
    "df_nan"
   ]
  },
  {
   "cell_type": "code",
   "execution_count": 68,
   "id": "cfbf111f",
   "metadata": {},
   "outputs": [
    {
     "data": {
      "text/html": [
       "<div>\n",
       "<style scoped>\n",
       "    .dataframe tbody tr th:only-of-type {\n",
       "        vertical-align: middle;\n",
       "    }\n",
       "\n",
       "    .dataframe tbody tr th {\n",
       "        vertical-align: top;\n",
       "    }\n",
       "\n",
       "    .dataframe thead th {\n",
       "        text-align: right;\n",
       "    }\n",
       "</style>\n",
       "<table border=\"1\" class=\"dataframe\">\n",
       "  <thead>\n",
       "    <tr style=\"text-align: right;\">\n",
       "      <th></th>\n",
       "      <th>location</th>\n",
       "      <th>new_deaths_per_million</th>\n",
       "      <th>date</th>\n",
       "    </tr>\n",
       "  </thead>\n",
       "  <tbody>\n",
       "    <tr>\n",
       "      <th>0</th>\n",
       "      <td>France</td>\n",
       "      <td>3.214</td>\n",
       "      <td>2021-05-06</td>\n",
       "    </tr>\n",
       "    <tr>\n",
       "      <th>1</th>\n",
       "      <td>India</td>\n",
       "      <td>0.000</td>\n",
       "      <td>2021-05-06</td>\n",
       "    </tr>\n",
       "    <tr>\n",
       "      <th>2</th>\n",
       "      <td>United States</td>\n",
       "      <td>2.375</td>\n",
       "      <td>2021-05-06</td>\n",
       "    </tr>\n",
       "    <tr>\n",
       "      <th>3</th>\n",
       "      <td>India</td>\n",
       "      <td>2.837</td>\n",
       "      <td>2021-05-06</td>\n",
       "    </tr>\n",
       "    <tr>\n",
       "      <th>4</th>\n",
       "      <td>United States</td>\n",
       "      <td>2.384</td>\n",
       "      <td>2021-05-06</td>\n",
       "    </tr>\n",
       "    <tr>\n",
       "      <th>...</th>\n",
       "      <td>...</td>\n",
       "      <td>...</td>\n",
       "      <td>...</td>\n",
       "    </tr>\n",
       "    <tr>\n",
       "      <th>1400</th>\n",
       "      <td>United States</td>\n",
       "      <td>NaN</td>\n",
       "      <td>2020-01-25</td>\n",
       "    </tr>\n",
       "    <tr>\n",
       "      <th>1401</th>\n",
       "      <td>France</td>\n",
       "      <td>NaN</td>\n",
       "      <td>2020-01-24</td>\n",
       "    </tr>\n",
       "    <tr>\n",
       "      <th>1402</th>\n",
       "      <td>United States</td>\n",
       "      <td>NaN</td>\n",
       "      <td>2020-01-24</td>\n",
       "    </tr>\n",
       "    <tr>\n",
       "      <th>1403</th>\n",
       "      <td>United States</td>\n",
       "      <td>NaN</td>\n",
       "      <td>2020-01-23</td>\n",
       "    </tr>\n",
       "    <tr>\n",
       "      <th>1404</th>\n",
       "      <td>United States</td>\n",
       "      <td>NaN</td>\n",
       "      <td>2020-01-22</td>\n",
       "    </tr>\n",
       "  </tbody>\n",
       "</table>\n",
       "<p>1405 rows × 3 columns</p>\n",
       "</div>"
      ],
      "text/plain": [
       "           location  new_deaths_per_million        date\n",
       "0            France                   3.214  2021-05-06\n",
       "1             India                   0.000  2021-05-06\n",
       "2     United States                   2.375  2021-05-06\n",
       "3             India                   2.837  2021-05-06\n",
       "4     United States                   2.384  2021-05-06\n",
       "...             ...                     ...         ...\n",
       "1400  United States                     NaN  2020-01-25\n",
       "1401         France                     NaN  2020-01-24\n",
       "1402  United States                     NaN  2020-01-24\n",
       "1403  United States                     NaN  2020-01-23\n",
       "1404  United States                     NaN  2020-01-22\n",
       "\n",
       "[1405 rows x 3 columns]"
      ]
     },
     "execution_count": 68,
     "metadata": {},
     "output_type": "execute_result"
    }
   ],
   "source": [
    "time_series_countries"
   ]
  },
  {
   "cell_type": "code",
   "execution_count": 70,
   "id": "893d5955",
   "metadata": {},
   "outputs": [
    {
     "data": {
      "image/png": "[encoded data removed]",
      "text/plain": [
       "<Figure size 576x396 with 1 Axes>"
      ]
     },
     "metadata": {},
     "output_type": "display_data"
    }
   ],
   "source": [
    "import matplotlib.pyplot as plt\n",
    "import pandas\n",
    "deaths_m_us_fr_ind['date']\n",
    "country_set = set(time_series_countries['location'])\n",
    "time_series_countries['date'] = pd.to_datetime(time_series_countries['date'])\n",
    "\n",
    "plt.figure()\n",
    "for country in country_set:\n",
    "    selected_data = deaths_m_us_fr_ind.loc[time_series_countries['location'] == country]\n",
    "    plt.plot(pd.to_datetime(selected_data['date']), selected_data['new_deaths_per_million'], label=country)\n",
    "     \n",
    "plt.legend()\n",
    "plt.show()"
   ]
  },
  {
   "cell_type": "markdown",
   "id": "9f960e0b",
   "metadata": {},
   "source": [
    "## Plot the deaths per million and cases per million by continent for your birthday in 2020. What does the data say?"
   ]
  },
  {
   "cell_type": "code",
   "execution_count": 27,
   "id": "394cb06f",
   "metadata": {},
   "outputs": [
    {
     "data": {
      "text/html": [
       "<div>\n",
       "<style scoped>\n",
       "    .dataframe tbody tr th:only-of-type {\n",
       "        vertical-align: middle;\n",
       "    }\n",
       "\n",
       "    .dataframe tbody tr th {\n",
       "        vertical-align: top;\n",
       "    }\n",
       "\n",
       "    .dataframe thead th {\n",
       "        text-align: right;\n",
       "    }\n",
       "</style>\n",
       "<table border=\"1\" class=\"dataframe\">\n",
       "  <thead>\n",
       "    <tr style=\"text-align: right;\">\n",
       "      <th></th>\n",
       "      <th>continent</th>\n",
       "      <th>new_deaths_per_million</th>\n",
       "      <th>new_cases_per_million</th>\n",
       "    </tr>\n",
       "  </thead>\n",
       "  <tbody>\n",
       "    <tr>\n",
       "      <th>0</th>\n",
       "      <td>None</td>\n",
       "      <td>0.196</td>\n",
       "      <td>7.330</td>\n",
       "    </tr>\n",
       "    <tr>\n",
       "      <th>1</th>\n",
       "      <td>Africa</td>\n",
       "      <td>0.319</td>\n",
       "      <td>2.714</td>\n",
       "    </tr>\n",
       "    <tr>\n",
       "      <th>2</th>\n",
       "      <td>Asia</td>\n",
       "      <td>0.051</td>\n",
       "      <td>8.888</td>\n",
       "    </tr>\n",
       "    <tr>\n",
       "      <th>3</th>\n",
       "      <td>Europe</td>\n",
       "      <td>1.042</td>\n",
       "      <td>17.374</td>\n",
       "    </tr>\n",
       "    <tr>\n",
       "      <th>4</th>\n",
       "      <td>North America</td>\n",
       "      <td>0.000</td>\n",
       "      <td>0.000</td>\n",
       "    </tr>\n",
       "    <tr>\n",
       "      <th>5</th>\n",
       "      <td>Oceania</td>\n",
       "      <td>0.000</td>\n",
       "      <td>0.078</td>\n",
       "    </tr>\n",
       "    <tr>\n",
       "      <th>6</th>\n",
       "      <td>South America</td>\n",
       "      <td>0.686</td>\n",
       "      <td>45.579</td>\n",
       "    </tr>\n",
       "  </tbody>\n",
       "</table>\n",
       "</div>"
      ],
      "text/plain": [
       "       continent  new_deaths_per_million  new_cases_per_million\n",
       "0           None                   0.196                  7.330\n",
       "1         Africa                   0.319                  2.714\n",
       "2           Asia                   0.051                  8.888\n",
       "3         Europe                   1.042                 17.374\n",
       "4  North America                   0.000                  0.000\n",
       "5        Oceania                   0.000                  0.078\n",
       "6  South America                   0.686                 45.579"
      ]
     },
     "execution_count": 27,
     "metadata": {},
     "output_type": "execute_result"
    }
   ],
   "source": [
    "birthday_death_by_continent = pd.read_sql_query(\"SELECT DISTINCT(continent), new_deaths_per_million, new_cases_per_million FROM covid WHERE date == '2020-06-19' GROUP BY continent\", conn)\n",
    "birthday_death_by_continent"
   ]
  },
  {
   "cell_type": "markdown",
   "id": "571a0cdc",
   "metadata": {},
   "source": [
    "## Plot the lockdown stringency for each country and color the scatter points by continent. Any insights?\n"
   ]
  },
  {
   "cell_type": "code",
   "execution_count": 43,
   "id": "84c9400a",
   "metadata": {},
   "outputs": [
    {
     "data": {
      "text/html": [
       "<div>\n",
       "<style scoped>\n",
       "    .dataframe tbody tr th:only-of-type {\n",
       "        vertical-align: middle;\n",
       "    }\n",
       "\n",
       "    .dataframe tbody tr th {\n",
       "        vertical-align: top;\n",
       "    }\n",
       "\n",
       "    .dataframe thead th {\n",
       "        text-align: right;\n",
       "    }\n",
       "</style>\n",
       "<table border=\"1\" class=\"dataframe\">\n",
       "  <thead>\n",
       "    <tr style=\"text-align: right;\">\n",
       "      <th></th>\n",
       "      <th>iso_code</th>\n",
       "      <th>location</th>\n",
       "      <th>avg(stringency_index)</th>\n",
       "    </tr>\n",
       "  </thead>\n",
       "  <tbody>\n",
       "    <tr>\n",
       "      <th>0</th>\n",
       "      <td>AFG</td>\n",
       "      <td>Afghanistan</td>\n",
       "      <td>37.208023</td>\n",
       "    </tr>\n",
       "    <tr>\n",
       "      <th>1</th>\n",
       "      <td>ALB</td>\n",
       "      <td>Albania</td>\n",
       "      <td>63.117644</td>\n",
       "    </tr>\n",
       "    <tr>\n",
       "      <th>2</th>\n",
       "      <td>DZA</td>\n",
       "      <td>Algeria</td>\n",
       "      <td>72.021475</td>\n",
       "    </tr>\n",
       "    <tr>\n",
       "      <th>3</th>\n",
       "      <td>AND</td>\n",
       "      <td>Andorra</td>\n",
       "      <td>48.320972</td>\n",
       "    </tr>\n",
       "    <tr>\n",
       "      <th>4</th>\n",
       "      <td>AGO</td>\n",
       "      <td>Angola</td>\n",
       "      <td>70.222625</td>\n",
       "    </tr>\n",
       "    <tr>\n",
       "      <th>...</th>\n",
       "      <td>...</td>\n",
       "      <td>...</td>\n",
       "      <td>...</td>\n",
       "    </tr>\n",
       "    <tr>\n",
       "      <th>207</th>\n",
       "      <td>VEN</td>\n",
       "      <td>Venezuela</td>\n",
       "      <td>84.875157</td>\n",
       "    </tr>\n",
       "    <tr>\n",
       "      <th>208</th>\n",
       "      <td>VNM</td>\n",
       "      <td>Vietnam</td>\n",
       "      <td>60.746696</td>\n",
       "    </tr>\n",
       "    <tr>\n",
       "      <th>209</th>\n",
       "      <td>YEM</td>\n",
       "      <td>Yemen</td>\n",
       "      <td>33.778303</td>\n",
       "    </tr>\n",
       "    <tr>\n",
       "      <th>210</th>\n",
       "      <td>ZMB</td>\n",
       "      <td>Zambia</td>\n",
       "      <td>45.652482</td>\n",
       "    </tr>\n",
       "    <tr>\n",
       "      <th>211</th>\n",
       "      <td>ZWE</td>\n",
       "      <td>Zimbabwe</td>\n",
       "      <td>73.983431</td>\n",
       "    </tr>\n",
       "  </tbody>\n",
       "</table>\n",
       "<p>212 rows × 3 columns</p>\n",
       "</div>"
      ],
      "text/plain": [
       "    iso_code     location  avg(stringency_index)\n",
       "0        AFG  Afghanistan              37.208023\n",
       "1        ALB      Albania              63.117644\n",
       "2        DZA      Algeria              72.021475\n",
       "3        AND      Andorra              48.320972\n",
       "4        AGO       Angola              70.222625\n",
       "..       ...          ...                    ...\n",
       "207      VEN    Venezuela              84.875157\n",
       "208      VNM      Vietnam              60.746696\n",
       "209      YEM        Yemen              33.778303\n",
       "210      ZMB       Zambia              45.652482\n",
       "211      ZWE     Zimbabwe              73.983431\n",
       "\n",
       "[212 rows x 3 columns]"
      ]
     },
     "execution_count": 43,
     "metadata": {},
     "output_type": "execute_result"
    }
   ],
   "source": [
    "stringency_i_countries = pd.read_sql_query(\"SELECT iso_code, location, avg(stringency_index) FROM covid WHERE location != 'World' and location != 'Europe' and location != 'North America' and location != 'South America' and location != 'Asia' and location != 'European Union' and location != 'Africa'  GROUP BY location\", conn)\n",
    "stringency_i_countries"
   ]
  }
 ],
 "metadata": {
  "kernelspec": {
   "display_name": "Python 3",
   "language": "python",
   "name": "python3"
  },
  "language_info": {
   "codemirror_mode": {
    "name": "ipython",
    "version": 3
   },
   "file_extension": ".py",
   "mimetype": "text/x-python",
   "name": "python",
   "nbconvert_exporter": "python",
   "pygments_lexer": "ipython3",
   "version": "3.8.8"
  },
  "toc": {
   "base_numbering": 1,
   "nav_menu": {},
   "number_sections": true,
   "sideBar": true,
   "skip_h1_title": false,
   "title_cell": "Table of Contents",
   "title_sidebar": "Contents",
   "toc_cell": false,
   "toc_position": {},
   "toc_section_display": true,
   "toc_window_display": false
  }
 },
 "nbformat": 4,
 "nbformat_minor": 5
}
